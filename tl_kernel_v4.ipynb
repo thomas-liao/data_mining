{
 "cells": [
  {
   "cell_type": "code",
   "execution_count": 1,
   "metadata": {
    "collapsed": true
   },
   "outputs": [],
   "source": [
    "import pandas as pd\n",
    "import numpy as np\n",
    "import seaborn as sns\n",
    "import warnings\n",
    "import matplotlib.pyplot as plt\n",
    "warnings.filterwarnings('ignore')\n",
    "% matplotlib inline"
   ]
  },
  {
   "cell_type": "markdown",
   "metadata": {},
   "source": [
    "# 1. Data Visualization and Feature Engineering"
   ]
  },
  {
   "cell_type": "code",
   "execution_count": 2,
   "metadata": {},
   "outputs": [],
   "source": [
    "all_data = pd.read_csv('./treatmentGroup0506.csv')"
   ]
  },
  {
   "cell_type": "code",
   "execution_count": 3,
   "metadata": {},
   "outputs": [
    {
     "data": {
      "text/plain": [
       "Index(['Unnamed: 0', 'community', 'id', 'members', 'attendAsembly', 'memOrg',\n",
       "       'income', 'monthInstall', 'primaryEd', 'secondaryEd', 'owner',\n",
       "       'yearsInHome', 'control', 'treatNoBonus', 'treatBonus', 'waterScarce',\n",
       "       'waterOK', 'houseType', 'age', 'numShowers', 'numSinks', 'numKitchen',\n",
       "       'showerTime', 'showerFreq', 'sinkTime', 'sinkFreq', 'kitchenTime',\n",
       "       'maxInstall', 'numInstalled', 'cleanShower', 'cleanKitchen',\n",
       "       'cleanSink', 'leaks', 'savings', 'sameFamily', 'totalDisadopt',\n",
       "       'partialDisadopt', 'noDisadopt', 'meanUsage', 'perCapitaUsage',\n",
       "       'kitchenExpectation', 'sinkExpectation', 'showerExpectation',\n",
       "       'cleanSum'],\n",
       "      dtype='object')"
      ]
     },
     "execution_count": 3,
     "metadata": {},
     "output_type": "execute_result"
    }
   ],
   "source": [
    "all_data.columns"
   ]
  },
  {
   "cell_type": "code",
   "execution_count": 4,
   "metadata": {
    "collapsed": true
   },
   "outputs": [],
   "source": [
    "all_data = all_data.drop(['noDisadopt'], axis=1)\n",
    "all_data = all_data.drop(['numInstalled'], axis=1)"
   ]
  },
  {
   "cell_type": "code",
   "execution_count": 5,
   "metadata": {},
   "outputs": [
    {
     "data": {
      "text/html": [
       "<div>\n",
       "<style>\n",
       "    .dataframe thead tr:only-child th {\n",
       "        text-align: right;\n",
       "    }\n",
       "\n",
       "    .dataframe thead th {\n",
       "        text-align: left;\n",
       "    }\n",
       "\n",
       "    .dataframe tbody tr th {\n",
       "        vertical-align: top;\n",
       "    }\n",
       "</style>\n",
       "<table border=\"1\" class=\"dataframe\">\n",
       "  <thead>\n",
       "    <tr style=\"text-align: right;\">\n",
       "      <th></th>\n",
       "      <th>Unnamed: 0</th>\n",
       "      <th>community</th>\n",
       "      <th>id</th>\n",
       "      <th>members</th>\n",
       "      <th>attendAsembly</th>\n",
       "      <th>memOrg</th>\n",
       "      <th>income</th>\n",
       "      <th>monthInstall</th>\n",
       "      <th>primaryEd</th>\n",
       "      <th>secondaryEd</th>\n",
       "      <th>...</th>\n",
       "      <th>savings</th>\n",
       "      <th>sameFamily</th>\n",
       "      <th>totalDisadopt</th>\n",
       "      <th>partialDisadopt</th>\n",
       "      <th>meanUsage</th>\n",
       "      <th>perCapitaUsage</th>\n",
       "      <th>kitchenExpectation</th>\n",
       "      <th>sinkExpectation</th>\n",
       "      <th>showerExpectation</th>\n",
       "      <th>cleanSum</th>\n",
       "    </tr>\n",
       "  </thead>\n",
       "  <tbody>\n",
       "    <tr>\n",
       "      <th>0</th>\n",
       "      <td>1</td>\n",
       "      <td>25.0</td>\n",
       "      <td>25002.0</td>\n",
       "      <td>1.0</td>\n",
       "      <td>0.0</td>\n",
       "      <td>0.0</td>\n",
       "      <td>3.0</td>\n",
       "      <td>6.0</td>\n",
       "      <td>1.0</td>\n",
       "      <td>0.0</td>\n",
       "      <td>...</td>\n",
       "      <td>5.0</td>\n",
       "      <td>1.0</td>\n",
       "      <td>0.0</td>\n",
       "      <td>1.0</td>\n",
       "      <td>18.818182</td>\n",
       "      <td>18.818182</td>\n",
       "      <td>3.0</td>\n",
       "      <td>NaN</td>\n",
       "      <td>3.0</td>\n",
       "      <td>0.0</td>\n",
       "    </tr>\n",
       "    <tr>\n",
       "      <th>1</th>\n",
       "      <td>3</td>\n",
       "      <td>25.0</td>\n",
       "      <td>25004.0</td>\n",
       "      <td>4.0</td>\n",
       "      <td>0.0</td>\n",
       "      <td>0.0</td>\n",
       "      <td>4.0</td>\n",
       "      <td>6.0</td>\n",
       "      <td>0.0</td>\n",
       "      <td>0.0</td>\n",
       "      <td>...</td>\n",
       "      <td>4.0</td>\n",
       "      <td>1.0</td>\n",
       "      <td>0.0</td>\n",
       "      <td>0.0</td>\n",
       "      <td>16.969697</td>\n",
       "      <td>4.242424</td>\n",
       "      <td>2.7</td>\n",
       "      <td>NaN</td>\n",
       "      <td>4.7</td>\n",
       "      <td>1.0</td>\n",
       "    </tr>\n",
       "    <tr>\n",
       "      <th>2</th>\n",
       "      <td>6</td>\n",
       "      <td>25.0</td>\n",
       "      <td>25007.0</td>\n",
       "      <td>4.0</td>\n",
       "      <td>0.0</td>\n",
       "      <td>0.0</td>\n",
       "      <td>2.0</td>\n",
       "      <td>6.0</td>\n",
       "      <td>0.0</td>\n",
       "      <td>0.0</td>\n",
       "      <td>...</td>\n",
       "      <td>4.0</td>\n",
       "      <td>1.0</td>\n",
       "      <td>0.0</td>\n",
       "      <td>0.0</td>\n",
       "      <td>15.947368</td>\n",
       "      <td>3.986842</td>\n",
       "      <td>7.0</td>\n",
       "      <td>NaN</td>\n",
       "      <td>8.2</td>\n",
       "      <td>1.0</td>\n",
       "    </tr>\n",
       "    <tr>\n",
       "      <th>3</th>\n",
       "      <td>17</td>\n",
       "      <td>25.0</td>\n",
       "      <td>25018.0</td>\n",
       "      <td>3.0</td>\n",
       "      <td>1.0</td>\n",
       "      <td>1.0</td>\n",
       "      <td>3.0</td>\n",
       "      <td>6.0</td>\n",
       "      <td>1.0</td>\n",
       "      <td>0.0</td>\n",
       "      <td>...</td>\n",
       "      <td>4.0</td>\n",
       "      <td>1.0</td>\n",
       "      <td>0.0</td>\n",
       "      <td>1.0</td>\n",
       "      <td>28.438596</td>\n",
       "      <td>9.479532</td>\n",
       "      <td>5.3</td>\n",
       "      <td>2.7</td>\n",
       "      <td>4.7</td>\n",
       "      <td>3.0</td>\n",
       "    </tr>\n",
       "    <tr>\n",
       "      <th>4</th>\n",
       "      <td>18</td>\n",
       "      <td>25.0</td>\n",
       "      <td>25019.0</td>\n",
       "      <td>5.0</td>\n",
       "      <td>1.0</td>\n",
       "      <td>0.0</td>\n",
       "      <td>4.0</td>\n",
       "      <td>6.0</td>\n",
       "      <td>1.0</td>\n",
       "      <td>1.0</td>\n",
       "      <td>...</td>\n",
       "      <td>1.0</td>\n",
       "      <td>1.0</td>\n",
       "      <td>0.0</td>\n",
       "      <td>1.0</td>\n",
       "      <td>21.017544</td>\n",
       "      <td>4.203509</td>\n",
       "      <td>2.0</td>\n",
       "      <td>2.0</td>\n",
       "      <td>2.0</td>\n",
       "      <td>3.0</td>\n",
       "    </tr>\n",
       "    <tr>\n",
       "      <th>5</th>\n",
       "      <td>19</td>\n",
       "      <td>25.0</td>\n",
       "      <td>25020.0</td>\n",
       "      <td>3.0</td>\n",
       "      <td>0.0</td>\n",
       "      <td>0.0</td>\n",
       "      <td>5.0</td>\n",
       "      <td>6.0</td>\n",
       "      <td>1.0</td>\n",
       "      <td>0.0</td>\n",
       "      <td>...</td>\n",
       "      <td>1.0</td>\n",
       "      <td>1.0</td>\n",
       "      <td>1.0</td>\n",
       "      <td>0.0</td>\n",
       "      <td>50.368421</td>\n",
       "      <td>16.789474</td>\n",
       "      <td>2.0</td>\n",
       "      <td>NaN</td>\n",
       "      <td>2.0</td>\n",
       "      <td>2.0</td>\n",
       "    </tr>\n",
       "    <tr>\n",
       "      <th>6</th>\n",
       "      <td>20</td>\n",
       "      <td>25.0</td>\n",
       "      <td>25021.0</td>\n",
       "      <td>2.0</td>\n",
       "      <td>0.0</td>\n",
       "      <td>0.0</td>\n",
       "      <td>NaN</td>\n",
       "      <td>6.0</td>\n",
       "      <td>1.0</td>\n",
       "      <td>0.0</td>\n",
       "      <td>...</td>\n",
       "      <td>1.0</td>\n",
       "      <td>1.0</td>\n",
       "      <td>0.0</td>\n",
       "      <td>1.0</td>\n",
       "      <td>15.719298</td>\n",
       "      <td>7.859649</td>\n",
       "      <td>3.0</td>\n",
       "      <td>NaN</td>\n",
       "      <td>2.0</td>\n",
       "      <td>1.0</td>\n",
       "    </tr>\n",
       "    <tr>\n",
       "      <th>7</th>\n",
       "      <td>23</td>\n",
       "      <td>25.0</td>\n",
       "      <td>25024.0</td>\n",
       "      <td>4.0</td>\n",
       "      <td>0.0</td>\n",
       "      <td>0.0</td>\n",
       "      <td>2.0</td>\n",
       "      <td>6.0</td>\n",
       "      <td>1.0</td>\n",
       "      <td>1.0</td>\n",
       "      <td>...</td>\n",
       "      <td>1.0</td>\n",
       "      <td>1.0</td>\n",
       "      <td>0.0</td>\n",
       "      <td>0.0</td>\n",
       "      <td>18.157895</td>\n",
       "      <td>4.539474</td>\n",
       "      <td>2.2</td>\n",
       "      <td>2.2</td>\n",
       "      <td>2.2</td>\n",
       "      <td>0.0</td>\n",
       "    </tr>\n",
       "    <tr>\n",
       "      <th>8</th>\n",
       "      <td>24</td>\n",
       "      <td>25.0</td>\n",
       "      <td>25025.0</td>\n",
       "      <td>2.0</td>\n",
       "      <td>1.0</td>\n",
       "      <td>0.0</td>\n",
       "      <td>2.0</td>\n",
       "      <td>6.0</td>\n",
       "      <td>1.0</td>\n",
       "      <td>0.0</td>\n",
       "      <td>...</td>\n",
       "      <td>1.0</td>\n",
       "      <td>1.0</td>\n",
       "      <td>0.0</td>\n",
       "      <td>1.0</td>\n",
       "      <td>21.175439</td>\n",
       "      <td>10.587719</td>\n",
       "      <td>3.0</td>\n",
       "      <td>NaN</td>\n",
       "      <td>5.0</td>\n",
       "      <td>2.0</td>\n",
       "    </tr>\n",
       "    <tr>\n",
       "      <th>9</th>\n",
       "      <td>31</td>\n",
       "      <td>25.0</td>\n",
       "      <td>25032.0</td>\n",
       "      <td>5.0</td>\n",
       "      <td>1.0</td>\n",
       "      <td>0.0</td>\n",
       "      <td>3.0</td>\n",
       "      <td>6.0</td>\n",
       "      <td>1.0</td>\n",
       "      <td>0.0</td>\n",
       "      <td>...</td>\n",
       "      <td>4.0</td>\n",
       "      <td>1.0</td>\n",
       "      <td>0.0</td>\n",
       "      <td>0.0</td>\n",
       "      <td>20.508772</td>\n",
       "      <td>4.101754</td>\n",
       "      <td>5.0</td>\n",
       "      <td>NaN</td>\n",
       "      <td>5.0</td>\n",
       "      <td>2.0</td>\n",
       "    </tr>\n",
       "  </tbody>\n",
       "</table>\n",
       "<p>10 rows × 42 columns</p>\n",
       "</div>"
      ],
      "text/plain": [
       "   Unnamed: 0  community       id  members  attendAsembly  memOrg  income  \\\n",
       "0           1       25.0  25002.0      1.0            0.0     0.0     3.0   \n",
       "1           3       25.0  25004.0      4.0            0.0     0.0     4.0   \n",
       "2           6       25.0  25007.0      4.0            0.0     0.0     2.0   \n",
       "3          17       25.0  25018.0      3.0            1.0     1.0     3.0   \n",
       "4          18       25.0  25019.0      5.0            1.0     0.0     4.0   \n",
       "5          19       25.0  25020.0      3.0            0.0     0.0     5.0   \n",
       "6          20       25.0  25021.0      2.0            0.0     0.0     NaN   \n",
       "7          23       25.0  25024.0      4.0            0.0     0.0     2.0   \n",
       "8          24       25.0  25025.0      2.0            1.0     0.0     2.0   \n",
       "9          31       25.0  25032.0      5.0            1.0     0.0     3.0   \n",
       "\n",
       "   monthInstall  primaryEd  secondaryEd    ...     savings  sameFamily  \\\n",
       "0           6.0        1.0          0.0    ...         5.0         1.0   \n",
       "1           6.0        0.0          0.0    ...         4.0         1.0   \n",
       "2           6.0        0.0          0.0    ...         4.0         1.0   \n",
       "3           6.0        1.0          0.0    ...         4.0         1.0   \n",
       "4           6.0        1.0          1.0    ...         1.0         1.0   \n",
       "5           6.0        1.0          0.0    ...         1.0         1.0   \n",
       "6           6.0        1.0          0.0    ...         1.0         1.0   \n",
       "7           6.0        1.0          1.0    ...         1.0         1.0   \n",
       "8           6.0        1.0          0.0    ...         1.0         1.0   \n",
       "9           6.0        1.0          0.0    ...         4.0         1.0   \n",
       "\n",
       "   totalDisadopt  partialDisadopt  meanUsage  perCapitaUsage  \\\n",
       "0            0.0              1.0  18.818182       18.818182   \n",
       "1            0.0              0.0  16.969697        4.242424   \n",
       "2            0.0              0.0  15.947368        3.986842   \n",
       "3            0.0              1.0  28.438596        9.479532   \n",
       "4            0.0              1.0  21.017544        4.203509   \n",
       "5            1.0              0.0  50.368421       16.789474   \n",
       "6            0.0              1.0  15.719298        7.859649   \n",
       "7            0.0              0.0  18.157895        4.539474   \n",
       "8            0.0              1.0  21.175439       10.587719   \n",
       "9            0.0              0.0  20.508772        4.101754   \n",
       "\n",
       "   kitchenExpectation  sinkExpectation  showerExpectation  cleanSum  \n",
       "0                 3.0              NaN                3.0       0.0  \n",
       "1                 2.7              NaN                4.7       1.0  \n",
       "2                 7.0              NaN                8.2       1.0  \n",
       "3                 5.3              2.7                4.7       3.0  \n",
       "4                 2.0              2.0                2.0       3.0  \n",
       "5                 2.0              NaN                2.0       2.0  \n",
       "6                 3.0              NaN                2.0       1.0  \n",
       "7                 2.2              2.2                2.2       0.0  \n",
       "8                 3.0              NaN                5.0       2.0  \n",
       "9                 5.0              NaN                5.0       2.0  \n",
       "\n",
       "[10 rows x 42 columns]"
      ]
     },
     "execution_count": 5,
     "metadata": {},
     "output_type": "execute_result"
    }
   ],
   "source": [
    "all_data.head(10)"
   ]
  },
  {
   "cell_type": "code",
   "execution_count": 6,
   "metadata": {},
   "outputs": [
    {
     "name": "stdout",
     "output_type": "stream",
     "text": [
      "<class 'pandas.core.frame.DataFrame'>\n",
      "RangeIndex: 812 entries, 0 to 811\n",
      "Data columns (total 42 columns):\n",
      "Unnamed: 0            812 non-null int64\n",
      "community             812 non-null float64\n",
      "id                    812 non-null float64\n",
      "members               812 non-null float64\n",
      "attendAsembly         812 non-null float64\n",
      "memOrg                812 non-null float64\n",
      "income                751 non-null float64\n",
      "monthInstall          812 non-null float64\n",
      "primaryEd             812 non-null float64\n",
      "secondaryEd           812 non-null float64\n",
      "owner                 812 non-null float64\n",
      "yearsInHome           812 non-null float64\n",
      "control               812 non-null float64\n",
      "treatNoBonus          812 non-null float64\n",
      "treatBonus            812 non-null float64\n",
      "waterScarce           812 non-null float64\n",
      "waterOK               812 non-null float64\n",
      "houseType             812 non-null float64\n",
      "age                   812 non-null float64\n",
      "numShowers            812 non-null float64\n",
      "numSinks              812 non-null float64\n",
      "numKitchen            812 non-null float64\n",
      "showerTime            712 non-null float64\n",
      "showerFreq            712 non-null float64\n",
      "sinkTime              364 non-null float64\n",
      "sinkFreq              364 non-null float64\n",
      "kitchenTime           533 non-null float64\n",
      "maxInstall            812 non-null float64\n",
      "cleanShower           812 non-null float64\n",
      "cleanKitchen          812 non-null float64\n",
      "cleanSink             812 non-null float64\n",
      "leaks                 771 non-null float64\n",
      "savings               771 non-null float64\n",
      "sameFamily            812 non-null float64\n",
      "totalDisadopt         812 non-null float64\n",
      "partialDisadopt       812 non-null float64\n",
      "meanUsage             808 non-null float64\n",
      "perCapitaUsage        808 non-null float64\n",
      "kitchenExpectation    516 non-null float64\n",
      "sinkExpectation       354 non-null float64\n",
      "showerExpectation     686 non-null float64\n",
      "cleanSum              812 non-null float64\n",
      "dtypes: float64(41), int64(1)\n",
      "memory usage: 266.5 KB\n"
     ]
    }
   ],
   "source": [
    "all_data.info()"
   ]
  },
  {
   "cell_type": "code",
   "execution_count": 7,
   "metadata": {},
   "outputs": [
    {
     "data": {
      "text/html": [
       "<div>\n",
       "<style>\n",
       "    .dataframe thead tr:only-child th {\n",
       "        text-align: right;\n",
       "    }\n",
       "\n",
       "    .dataframe thead th {\n",
       "        text-align: left;\n",
       "    }\n",
       "\n",
       "    .dataframe tbody tr th {\n",
       "        vertical-align: top;\n",
       "    }\n",
       "</style>\n",
       "<table border=\"1\" class=\"dataframe\">\n",
       "  <thead>\n",
       "    <tr style=\"text-align: right;\">\n",
       "      <th></th>\n",
       "      <th>Unnamed: 0</th>\n",
       "      <th>community</th>\n",
       "      <th>id</th>\n",
       "      <th>members</th>\n",
       "      <th>attendAsembly</th>\n",
       "      <th>memOrg</th>\n",
       "      <th>income</th>\n",
       "      <th>monthInstall</th>\n",
       "      <th>primaryEd</th>\n",
       "      <th>secondaryEd</th>\n",
       "      <th>...</th>\n",
       "      <th>savings</th>\n",
       "      <th>sameFamily</th>\n",
       "      <th>totalDisadopt</th>\n",
       "      <th>partialDisadopt</th>\n",
       "      <th>meanUsage</th>\n",
       "      <th>perCapitaUsage</th>\n",
       "      <th>kitchenExpectation</th>\n",
       "      <th>sinkExpectation</th>\n",
       "      <th>showerExpectation</th>\n",
       "      <th>cleanSum</th>\n",
       "    </tr>\n",
       "  </thead>\n",
       "  <tbody>\n",
       "    <tr>\n",
       "      <th>count</th>\n",
       "      <td>812.000000</td>\n",
       "      <td>812.000000</td>\n",
       "      <td>812.000000</td>\n",
       "      <td>812.000000</td>\n",
       "      <td>812.000000</td>\n",
       "      <td>812.000000</td>\n",
       "      <td>751.000000</td>\n",
       "      <td>812.000000</td>\n",
       "      <td>812.000000</td>\n",
       "      <td>812.000000</td>\n",
       "      <td>...</td>\n",
       "      <td>771.000000</td>\n",
       "      <td>812.000000</td>\n",
       "      <td>812.000000</td>\n",
       "      <td>812.000000</td>\n",
       "      <td>808.000000</td>\n",
       "      <td>808.000000</td>\n",
       "      <td>516.000000</td>\n",
       "      <td>354.000000</td>\n",
       "      <td>686.000000</td>\n",
       "      <td>812.000000</td>\n",
       "    </tr>\n",
       "    <tr>\n",
       "      <th>mean</th>\n",
       "      <td>1163.363300</td>\n",
       "      <td>45.055419</td>\n",
       "      <td>45213.282020</td>\n",
       "      <td>3.725369</td>\n",
       "      <td>0.391626</td>\n",
       "      <td>0.146552</td>\n",
       "      <td>3.001332</td>\n",
       "      <td>5.910099</td>\n",
       "      <td>0.801724</td>\n",
       "      <td>0.258621</td>\n",
       "      <td>...</td>\n",
       "      <td>4.199741</td>\n",
       "      <td>0.949507</td>\n",
       "      <td>0.203202</td>\n",
       "      <td>0.293103</td>\n",
       "      <td>24.534944</td>\n",
       "      <td>7.613005</td>\n",
       "      <td>4.346318</td>\n",
       "      <td>4.811582</td>\n",
       "      <td>4.573907</td>\n",
       "      <td>1.600985</td>\n",
       "    </tr>\n",
       "    <tr>\n",
       "      <th>std</th>\n",
       "      <td>635.386533</td>\n",
       "      <td>13.341503</td>\n",
       "      <td>13336.226856</td>\n",
       "      <td>1.796612</td>\n",
       "      <td>0.488415</td>\n",
       "      <td>0.353876</td>\n",
       "      <td>1.191637</td>\n",
       "      <td>0.695624</td>\n",
       "      <td>0.398947</td>\n",
       "      <td>0.438147</td>\n",
       "      <td>...</td>\n",
       "      <td>2.019142</td>\n",
       "      <td>0.219094</td>\n",
       "      <td>0.402630</td>\n",
       "      <td>0.455466</td>\n",
       "      <td>13.506054</td>\n",
       "      <td>5.157397</td>\n",
       "      <td>2.170716</td>\n",
       "      <td>2.186647</td>\n",
       "      <td>2.227939</td>\n",
       "      <td>1.003520</td>\n",
       "    </tr>\n",
       "    <tr>\n",
       "      <th>min</th>\n",
       "      <td>1.000000</td>\n",
       "      <td>25.000000</td>\n",
       "      <td>25002.000000</td>\n",
       "      <td>1.000000</td>\n",
       "      <td>0.000000</td>\n",
       "      <td>0.000000</td>\n",
       "      <td>1.000000</td>\n",
       "      <td>5.000000</td>\n",
       "      <td>0.000000</td>\n",
       "      <td>0.000000</td>\n",
       "      <td>...</td>\n",
       "      <td>1.000000</td>\n",
       "      <td>0.000000</td>\n",
       "      <td>0.000000</td>\n",
       "      <td>0.000000</td>\n",
       "      <td>0.755556</td>\n",
       "      <td>0.755556</td>\n",
       "      <td>2.000000</td>\n",
       "      <td>2.000000</td>\n",
       "      <td>2.000000</td>\n",
       "      <td>0.000000</td>\n",
       "    </tr>\n",
       "    <tr>\n",
       "      <th>25%</th>\n",
       "      <td>664.750000</td>\n",
       "      <td>35.000000</td>\n",
       "      <td>35083.750000</td>\n",
       "      <td>2.000000</td>\n",
       "      <td>0.000000</td>\n",
       "      <td>0.000000</td>\n",
       "      <td>2.000000</td>\n",
       "      <td>5.000000</td>\n",
       "      <td>1.000000</td>\n",
       "      <td>0.000000</td>\n",
       "      <td>...</td>\n",
       "      <td>3.000000</td>\n",
       "      <td>1.000000</td>\n",
       "      <td>0.000000</td>\n",
       "      <td>0.000000</td>\n",
       "      <td>15.552632</td>\n",
       "      <td>4.433333</td>\n",
       "      <td>2.600000</td>\n",
       "      <td>3.000000</td>\n",
       "      <td>3.000000</td>\n",
       "      <td>1.000000</td>\n",
       "    </tr>\n",
       "    <tr>\n",
       "      <th>50%</th>\n",
       "      <td>1179.000000</td>\n",
       "      <td>36.000000</td>\n",
       "      <td>36407.000000</td>\n",
       "      <td>4.000000</td>\n",
       "      <td>0.000000</td>\n",
       "      <td>0.000000</td>\n",
       "      <td>3.000000</td>\n",
       "      <td>6.000000</td>\n",
       "      <td>1.000000</td>\n",
       "      <td>0.000000</td>\n",
       "      <td>...</td>\n",
       "      <td>4.000000</td>\n",
       "      <td>1.000000</td>\n",
       "      <td>0.000000</td>\n",
       "      <td>0.000000</td>\n",
       "      <td>21.973684</td>\n",
       "      <td>6.341667</td>\n",
       "      <td>4.000000</td>\n",
       "      <td>4.600000</td>\n",
       "      <td>4.000000</td>\n",
       "      <td>2.000000</td>\n",
       "    </tr>\n",
       "    <tr>\n",
       "      <th>75%</th>\n",
       "      <td>1715.000000</td>\n",
       "      <td>64.000000</td>\n",
       "      <td>64021.000000</td>\n",
       "      <td>5.000000</td>\n",
       "      <td>1.000000</td>\n",
       "      <td>0.000000</td>\n",
       "      <td>4.000000</td>\n",
       "      <td>6.000000</td>\n",
       "      <td>1.000000</td>\n",
       "      <td>1.000000</td>\n",
       "      <td>...</td>\n",
       "      <td>6.000000</td>\n",
       "      <td>1.000000</td>\n",
       "      <td>0.000000</td>\n",
       "      <td>1.000000</td>\n",
       "      <td>29.947368</td>\n",
       "      <td>8.959649</td>\n",
       "      <td>5.200000</td>\n",
       "      <td>6.000000</td>\n",
       "      <td>5.500000</td>\n",
       "      <td>2.000000</td>\n",
       "    </tr>\n",
       "    <tr>\n",
       "      <th>max</th>\n",
       "      <td>2245.000000</td>\n",
       "      <td>66.000000</td>\n",
       "      <td>66293.000000</td>\n",
       "      <td>11.000000</td>\n",
       "      <td>1.000000</td>\n",
       "      <td>1.000000</td>\n",
       "      <td>5.000000</td>\n",
       "      <td>7.000000</td>\n",
       "      <td>1.000000</td>\n",
       "      <td>1.000000</td>\n",
       "      <td>...</td>\n",
       "      <td>7.000000</td>\n",
       "      <td>1.000000</td>\n",
       "      <td>1.000000</td>\n",
       "      <td>1.000000</td>\n",
       "      <td>109.947368</td>\n",
       "      <td>67.508772</td>\n",
       "      <td>9.000000</td>\n",
       "      <td>9.000000</td>\n",
       "      <td>9.000000</td>\n",
       "      <td>3.000000</td>\n",
       "    </tr>\n",
       "  </tbody>\n",
       "</table>\n",
       "<p>8 rows × 42 columns</p>\n",
       "</div>"
      ],
      "text/plain": [
       "        Unnamed: 0   community            id     members  attendAsembly  \\\n",
       "count   812.000000  812.000000    812.000000  812.000000     812.000000   \n",
       "mean   1163.363300   45.055419  45213.282020    3.725369       0.391626   \n",
       "std     635.386533   13.341503  13336.226856    1.796612       0.488415   \n",
       "min       1.000000   25.000000  25002.000000    1.000000       0.000000   \n",
       "25%     664.750000   35.000000  35083.750000    2.000000       0.000000   \n",
       "50%    1179.000000   36.000000  36407.000000    4.000000       0.000000   \n",
       "75%    1715.000000   64.000000  64021.000000    5.000000       1.000000   \n",
       "max    2245.000000   66.000000  66293.000000   11.000000       1.000000   \n",
       "\n",
       "           memOrg      income  monthInstall   primaryEd  secondaryEd  \\\n",
       "count  812.000000  751.000000    812.000000  812.000000   812.000000   \n",
       "mean     0.146552    3.001332      5.910099    0.801724     0.258621   \n",
       "std      0.353876    1.191637      0.695624    0.398947     0.438147   \n",
       "min      0.000000    1.000000      5.000000    0.000000     0.000000   \n",
       "25%      0.000000    2.000000      5.000000    1.000000     0.000000   \n",
       "50%      0.000000    3.000000      6.000000    1.000000     0.000000   \n",
       "75%      0.000000    4.000000      6.000000    1.000000     1.000000   \n",
       "max      1.000000    5.000000      7.000000    1.000000     1.000000   \n",
       "\n",
       "          ...         savings  sameFamily  totalDisadopt  partialDisadopt  \\\n",
       "count     ...      771.000000  812.000000     812.000000       812.000000   \n",
       "mean      ...        4.199741    0.949507       0.203202         0.293103   \n",
       "std       ...        2.019142    0.219094       0.402630         0.455466   \n",
       "min       ...        1.000000    0.000000       0.000000         0.000000   \n",
       "25%       ...        3.000000    1.000000       0.000000         0.000000   \n",
       "50%       ...        4.000000    1.000000       0.000000         0.000000   \n",
       "75%       ...        6.000000    1.000000       0.000000         1.000000   \n",
       "max       ...        7.000000    1.000000       1.000000         1.000000   \n",
       "\n",
       "        meanUsage  perCapitaUsage  kitchenExpectation  sinkExpectation  \\\n",
       "count  808.000000      808.000000          516.000000       354.000000   \n",
       "mean    24.534944        7.613005            4.346318         4.811582   \n",
       "std     13.506054        5.157397            2.170716         2.186647   \n",
       "min      0.755556        0.755556            2.000000         2.000000   \n",
       "25%     15.552632        4.433333            2.600000         3.000000   \n",
       "50%     21.973684        6.341667            4.000000         4.600000   \n",
       "75%     29.947368        8.959649            5.200000         6.000000   \n",
       "max    109.947368       67.508772            9.000000         9.000000   \n",
       "\n",
       "       showerExpectation    cleanSum  \n",
       "count         686.000000  812.000000  \n",
       "mean            4.573907    1.600985  \n",
       "std             2.227939    1.003520  \n",
       "min             2.000000    0.000000  \n",
       "25%             3.000000    1.000000  \n",
       "50%             4.000000    2.000000  \n",
       "75%             5.500000    2.000000  \n",
       "max             9.000000    3.000000  \n",
       "\n",
       "[8 rows x 42 columns]"
      ]
     },
     "execution_count": 7,
     "metadata": {},
     "output_type": "execute_result"
    }
   ],
   "source": [
    "all_data.describe()"
   ]
  },
  {
   "cell_type": "code",
   "execution_count": 8,
   "metadata": {
    "collapsed": true
   },
   "outputs": [],
   "source": [
    "y_tot = all_data['totalDisadopt']\n",
    "y_par = all_data['partialDisadopt']\n"
   ]
  },
  {
   "cell_type": "code",
   "execution_count": 9,
   "metadata": {},
   "outputs": [
    {
     "data": {
      "text/html": [
       "<div>\n",
       "<style>\n",
       "    .dataframe thead tr:only-child th {\n",
       "        text-align: right;\n",
       "    }\n",
       "\n",
       "    .dataframe thead th {\n",
       "        text-align: left;\n",
       "    }\n",
       "\n",
       "    .dataframe tbody tr th {\n",
       "        vertical-align: top;\n",
       "    }\n",
       "</style>\n",
       "<table border=\"1\" class=\"dataframe\">\n",
       "  <thead>\n",
       "    <tr style=\"text-align: right;\">\n",
       "      <th></th>\n",
       "      <th>Total_missing</th>\n",
       "      <th>percentage</th>\n",
       "    </tr>\n",
       "  </thead>\n",
       "  <tbody>\n",
       "    <tr>\n",
       "      <th>sinkExpectation</th>\n",
       "      <td>458</td>\n",
       "      <td>0.564039</td>\n",
       "    </tr>\n",
       "    <tr>\n",
       "      <th>sinkTime</th>\n",
       "      <td>448</td>\n",
       "      <td>0.551724</td>\n",
       "    </tr>\n",
       "    <tr>\n",
       "      <th>sinkFreq</th>\n",
       "      <td>448</td>\n",
       "      <td>0.551724</td>\n",
       "    </tr>\n",
       "    <tr>\n",
       "      <th>kitchenExpectation</th>\n",
       "      <td>296</td>\n",
       "      <td>0.364532</td>\n",
       "    </tr>\n",
       "    <tr>\n",
       "      <th>kitchenTime</th>\n",
       "      <td>279</td>\n",
       "      <td>0.343596</td>\n",
       "    </tr>\n",
       "    <tr>\n",
       "      <th>showerExpectation</th>\n",
       "      <td>126</td>\n",
       "      <td>0.155172</td>\n",
       "    </tr>\n",
       "    <tr>\n",
       "      <th>showerFreq</th>\n",
       "      <td>100</td>\n",
       "      <td>0.123153</td>\n",
       "    </tr>\n",
       "    <tr>\n",
       "      <th>showerTime</th>\n",
       "      <td>100</td>\n",
       "      <td>0.123153</td>\n",
       "    </tr>\n",
       "    <tr>\n",
       "      <th>income</th>\n",
       "      <td>61</td>\n",
       "      <td>0.075123</td>\n",
       "    </tr>\n",
       "    <tr>\n",
       "      <th>leaks</th>\n",
       "      <td>41</td>\n",
       "      <td>0.050493</td>\n",
       "    </tr>\n",
       "    <tr>\n",
       "      <th>savings</th>\n",
       "      <td>41</td>\n",
       "      <td>0.050493</td>\n",
       "    </tr>\n",
       "    <tr>\n",
       "      <th>meanUsage</th>\n",
       "      <td>4</td>\n",
       "      <td>0.004926</td>\n",
       "    </tr>\n",
       "    <tr>\n",
       "      <th>perCapitaUsage</th>\n",
       "      <td>4</td>\n",
       "      <td>0.004926</td>\n",
       "    </tr>\n",
       "    <tr>\n",
       "      <th>owner</th>\n",
       "      <td>0</td>\n",
       "      <td>0.000000</td>\n",
       "    </tr>\n",
       "    <tr>\n",
       "      <th>secondaryEd</th>\n",
       "      <td>0</td>\n",
       "      <td>0.000000</td>\n",
       "    </tr>\n",
       "    <tr>\n",
       "      <th>yearsInHome</th>\n",
       "      <td>0</td>\n",
       "      <td>0.000000</td>\n",
       "    </tr>\n",
       "    <tr>\n",
       "      <th>primaryEd</th>\n",
       "      <td>0</td>\n",
       "      <td>0.000000</td>\n",
       "    </tr>\n",
       "    <tr>\n",
       "      <th>control</th>\n",
       "      <td>0</td>\n",
       "      <td>0.000000</td>\n",
       "    </tr>\n",
       "    <tr>\n",
       "      <th>cleanSum</th>\n",
       "      <td>0</td>\n",
       "      <td>0.000000</td>\n",
       "    </tr>\n",
       "    <tr>\n",
       "      <th>monthInstall</th>\n",
       "      <td>0</td>\n",
       "      <td>0.000000</td>\n",
       "    </tr>\n",
       "    <tr>\n",
       "      <th>treatBonus</th>\n",
       "      <td>0</td>\n",
       "      <td>0.000000</td>\n",
       "    </tr>\n",
       "    <tr>\n",
       "      <th>memOrg</th>\n",
       "      <td>0</td>\n",
       "      <td>0.000000</td>\n",
       "    </tr>\n",
       "    <tr>\n",
       "      <th>attendAsembly</th>\n",
       "      <td>0</td>\n",
       "      <td>0.000000</td>\n",
       "    </tr>\n",
       "    <tr>\n",
       "      <th>members</th>\n",
       "      <td>0</td>\n",
       "      <td>0.000000</td>\n",
       "    </tr>\n",
       "    <tr>\n",
       "      <th>id</th>\n",
       "      <td>0</td>\n",
       "      <td>0.000000</td>\n",
       "    </tr>\n",
       "    <tr>\n",
       "      <th>community</th>\n",
       "      <td>0</td>\n",
       "      <td>0.000000</td>\n",
       "    </tr>\n",
       "    <tr>\n",
       "      <th>treatNoBonus</th>\n",
       "      <td>0</td>\n",
       "      <td>0.000000</td>\n",
       "    </tr>\n",
       "    <tr>\n",
       "      <th>numSinks</th>\n",
       "      <td>0</td>\n",
       "      <td>0.000000</td>\n",
       "    </tr>\n",
       "    <tr>\n",
       "      <th>waterScarce</th>\n",
       "      <td>0</td>\n",
       "      <td>0.000000</td>\n",
       "    </tr>\n",
       "    <tr>\n",
       "      <th>waterOK</th>\n",
       "      <td>0</td>\n",
       "      <td>0.000000</td>\n",
       "    </tr>\n",
       "    <tr>\n",
       "      <th>houseType</th>\n",
       "      <td>0</td>\n",
       "      <td>0.000000</td>\n",
       "    </tr>\n",
       "    <tr>\n",
       "      <th>age</th>\n",
       "      <td>0</td>\n",
       "      <td>0.000000</td>\n",
       "    </tr>\n",
       "    <tr>\n",
       "      <th>numShowers</th>\n",
       "      <td>0</td>\n",
       "      <td>0.000000</td>\n",
       "    </tr>\n",
       "    <tr>\n",
       "      <th>numKitchen</th>\n",
       "      <td>0</td>\n",
       "      <td>0.000000</td>\n",
       "    </tr>\n",
       "    <tr>\n",
       "      <th>maxInstall</th>\n",
       "      <td>0</td>\n",
       "      <td>0.000000</td>\n",
       "    </tr>\n",
       "    <tr>\n",
       "      <th>cleanShower</th>\n",
       "      <td>0</td>\n",
       "      <td>0.000000</td>\n",
       "    </tr>\n",
       "    <tr>\n",
       "      <th>cleanKitchen</th>\n",
       "      <td>0</td>\n",
       "      <td>0.000000</td>\n",
       "    </tr>\n",
       "    <tr>\n",
       "      <th>cleanSink</th>\n",
       "      <td>0</td>\n",
       "      <td>0.000000</td>\n",
       "    </tr>\n",
       "    <tr>\n",
       "      <th>sameFamily</th>\n",
       "      <td>0</td>\n",
       "      <td>0.000000</td>\n",
       "    </tr>\n",
       "    <tr>\n",
       "      <th>totalDisadopt</th>\n",
       "      <td>0</td>\n",
       "      <td>0.000000</td>\n",
       "    </tr>\n",
       "    <tr>\n",
       "      <th>partialDisadopt</th>\n",
       "      <td>0</td>\n",
       "      <td>0.000000</td>\n",
       "    </tr>\n",
       "    <tr>\n",
       "      <th>Unnamed: 0</th>\n",
       "      <td>0</td>\n",
       "      <td>0.000000</td>\n",
       "    </tr>\n",
       "  </tbody>\n",
       "</table>\n",
       "</div>"
      ],
      "text/plain": [
       "                    Total_missing  percentage\n",
       "sinkExpectation               458    0.564039\n",
       "sinkTime                      448    0.551724\n",
       "sinkFreq                      448    0.551724\n",
       "kitchenExpectation            296    0.364532\n",
       "kitchenTime                   279    0.343596\n",
       "showerExpectation             126    0.155172\n",
       "showerFreq                    100    0.123153\n",
       "showerTime                    100    0.123153\n",
       "income                         61    0.075123\n",
       "leaks                          41    0.050493\n",
       "savings                        41    0.050493\n",
       "meanUsage                       4    0.004926\n",
       "perCapitaUsage                  4    0.004926\n",
       "owner                           0    0.000000\n",
       "secondaryEd                     0    0.000000\n",
       "yearsInHome                     0    0.000000\n",
       "primaryEd                       0    0.000000\n",
       "control                         0    0.000000\n",
       "cleanSum                        0    0.000000\n",
       "monthInstall                    0    0.000000\n",
       "treatBonus                      0    0.000000\n",
       "memOrg                          0    0.000000\n",
       "attendAsembly                   0    0.000000\n",
       "members                         0    0.000000\n",
       "id                              0    0.000000\n",
       "community                       0    0.000000\n",
       "treatNoBonus                    0    0.000000\n",
       "numSinks                        0    0.000000\n",
       "waterScarce                     0    0.000000\n",
       "waterOK                         0    0.000000\n",
       "houseType                       0    0.000000\n",
       "age                             0    0.000000\n",
       "numShowers                      0    0.000000\n",
       "numKitchen                      0    0.000000\n",
       "maxInstall                      0    0.000000\n",
       "cleanShower                     0    0.000000\n",
       "cleanKitchen                    0    0.000000\n",
       "cleanSink                       0    0.000000\n",
       "sameFamily                      0    0.000000\n",
       "totalDisadopt                   0    0.000000\n",
       "partialDisadopt                 0    0.000000\n",
       "Unnamed: 0                      0    0.000000"
      ]
     },
     "execution_count": 9,
     "metadata": {},
     "output_type": "execute_result"
    }
   ],
   "source": [
    "# Table: percentage of missing data, in descending order\n",
    "total = all_data.isnull().sum().sort_values(ascending=False)\n",
    "percentage = (all_data.isnull().sum() / all_data.isnull().count()).sort_values(ascending=False)\n",
    "missing_data = pd.concat([total, percentage], axis=1, keys = ['Total_missing', 'percentage'])\n",
    "\n",
    "missing_data"
   ]
  },
  {
   "cell_type": "markdown",
   "metadata": {},
   "source": [
    "## My suggestion on handling missing data (need to discuss):\n",
    "0. Overwriting rule : do visualization first. if feature is not useful, don't border filling in missing cause not going to help anyway.\n",
    "1. For those with very limited missing data(mean usage, perCapitalUsage, fill in mean value.\n",
    "2. For those up to approx. 15% missing data, fill in using RFR(RandomForest Regressor), or mean value, or whatever else.\n",
    "3. For those with high missing data percentage (>15%), convert to binary class s.t. missing = 1 and not missing = 0, w.r.t each feature.(because, the very fact that data is missing/not missing may actually render that feature w.r.t. distribution not being i.i.d., hence filling value as if they were i.i.d. distributed make no sense. However, binary classification treatment make sense.)"
   ]
  },
  {
   "cell_type": "code",
   "execution_count": 10,
   "metadata": {
    "collapsed": true
   },
   "outputs": [],
   "source": [
    "def set_feature_type(df, feature):\n",
    "    \"\"\"A helper function to make feature with high percentage of \n",
    "    missing data into binary class.\n",
    "    \"\"\"\n",
    "    df.loc[(df[feature].notnull()), feature] = '1'\n",
    "    df.loc[(df[feature].isnull()), feature] = '0'\n",
    "    return df\n"
   ]
  },
  {
   "cell_type": "code",
   "execution_count": 11,
   "metadata": {
    "collapsed": true
   },
   "outputs": [],
   "source": [
    "high_perc_missing = ['sinkExpectation', 'sinkTime', 'sinkFreq', 'kitchenExpectation', 'kitchenTime', 'showerExpectation']\n",
    "for feature in high_perc_missing:\n",
    "    all_data = set_feature_type(all_data, feature)\n",
    "    "
   ]
  },
  {
   "cell_type": "code",
   "execution_count": 12,
   "metadata": {},
   "outputs": [
    {
     "data": {
      "text/plain": [
       "showerTime            100\n",
       "showerFreq            100\n",
       "income                 61\n",
       "savings                41\n",
       "leaks                  41\n",
       "perCapitaUsage          4\n",
       "meanUsage               4\n",
       "cleanSum                0\n",
       "owner                   0\n",
       "waterScarce             0\n",
       "treatBonus              0\n",
       "treatNoBonus            0\n",
       "control                 0\n",
       "yearsInHome             0\n",
       "monthInstall            0\n",
       "secondaryEd             0\n",
       "primaryEd               0\n",
       "houseType               0\n",
       "memOrg                  0\n",
       "attendAsembly           0\n",
       "members                 0\n",
       "id                      0\n",
       "community               0\n",
       "waterOK                 0\n",
       "numSinks                0\n",
       "age                     0\n",
       "cleanKitchen            0\n",
       "sinkExpectation         0\n",
       "kitchenExpectation      0\n",
       "partialDisadopt         0\n",
       "totalDisadopt           0\n",
       "sameFamily              0\n",
       "cleanSink               0\n",
       "cleanShower             0\n",
       "numShowers              0\n",
       "maxInstall              0\n",
       "kitchenTime             0\n",
       "sinkFreq                0\n",
       "sinkTime                0\n",
       "numKitchen              0\n",
       "showerExpectation       0\n",
       "Unnamed: 0              0\n",
       "dtype: int64"
      ]
     },
     "execution_count": 12,
     "metadata": {},
     "output_type": "execute_result"
    }
   ],
   "source": [
    "# double check\n",
    "all_data.isnull().sum().sort_values(ascending=False)"
   ]
  },
  {
   "cell_type": "code",
   "execution_count": 13,
   "metadata": {
    "collapsed": true
   },
   "outputs": [],
   "source": [
    "# fill in meanUsage, perCapitalUsage with mean value\n",
    "def fill_feature_value(df, feature):\n",
    "    df.loc[ (df[feature].isnull()), feature ] = df[feature].mean()\n",
    "    return df\n"
   ]
  },
  {
   "cell_type": "code",
   "execution_count": 14,
   "metadata": {
    "collapsed": true
   },
   "outputs": [],
   "source": [
    "feat_fill_val = ['meanUsage', 'perCapitaUsage']\n",
    "\n",
    "for feature in feat_fill_val:\n",
    "    all_data = fill_feature_value(all_data, feature)\n",
    "\n",
    "\n"
   ]
  },
  {
   "cell_type": "code",
   "execution_count": 15,
   "metadata": {},
   "outputs": [
    {
     "data": {
      "text/plain": [
       "showerTime            100\n",
       "showerFreq            100\n",
       "income                 61\n",
       "savings                41\n",
       "leaks                  41\n",
       "cleanSum                0\n",
       "owner                   0\n",
       "waterOK                 0\n",
       "waterScarce             0\n",
       "treatBonus              0\n",
       "treatNoBonus            0\n",
       "control                 0\n",
       "yearsInHome             0\n",
       "primaryEd               0\n",
       "secondaryEd             0\n",
       "age                     0\n",
       "monthInstall            0\n",
       "memOrg                  0\n",
       "attendAsembly           0\n",
       "members                 0\n",
       "id                      0\n",
       "community               0\n",
       "houseType               0\n",
       "numSinks                0\n",
       "numShowers              0\n",
       "showerExpectation       0\n",
       "sinkExpectation         0\n",
       "kitchenExpectation      0\n",
       "perCapitaUsage          0\n",
       "meanUsage               0\n",
       "partialDisadopt         0\n",
       "totalDisadopt           0\n",
       "sameFamily              0\n",
       "cleanSink               0\n",
       "cleanKitchen            0\n",
       "cleanShower             0\n",
       "maxInstall              0\n",
       "kitchenTime             0\n",
       "sinkFreq                0\n",
       "sinkTime                0\n",
       "numKitchen              0\n",
       "Unnamed: 0              0\n",
       "dtype: int64"
      ]
     },
     "execution_count": 15,
     "metadata": {},
     "output_type": "execute_result"
    }
   ],
   "source": [
    "# double check missing data\n",
    "all_data.isnull().sum().sort_values(ascending=False)"
   ]
  },
  {
   "cell_type": "code",
   "execution_count": null,
   "metadata": {
    "collapsed": true
   },
   "outputs": [],
   "source": [
    "\n",
    "    "
   ]
  },
  {
   "cell_type": "code",
   "execution_count": 16,
   "metadata": {},
   "outputs": [
    {
     "data": {
      "text/plain": [
       "<matplotlib.axes._subplots.AxesSubplot at 0x110c68b38>"
      ]
     },
     "execution_count": 16,
     "metadata": {},
     "output_type": "execute_result"
    },
    {
     "data": {
      "image/png": "[encoded data removed]",
      "text/plain": [
       "<matplotlib.figure.Figure at 0x110c7a588>"
      ]
     },
     "metadata": {},
     "output_type": "display_data"
    }
   ],
   "source": [
    "# now, time for heat map\n",
    "corrmat = all_data.corr()\n",
    "fig = plt.figure(figsize=(20, 10))\n",
    "sns.heatmap(corrmat, vmax=.8, square=True)"
   ]
  },
  {
   "cell_type": "code",
   "execution_count": 17,
   "metadata": {},
   "outputs": [
    {
     "data": {
      "text/plain": [
       "<matplotlib.axes._subplots.AxesSubplot at 0x110c48d30>"
      ]
     },
     "execution_count": 17,
     "metadata": {},
     "output_type": "execute_result"
    },
    {
     "data": {
      "image/png": "[encoded data removed]",
      "text/plain": [
       "<matplotlib.figure.Figure at 0x110c7a518>"
      ]
     },
     "metadata": {},
     "output_type": "display_data"
    }
   ],
   "source": [
    "# control is doing nothing, all whiten out,  drop it, re-plot\n",
    "all_data = all_data.drop(['control'], axis=1)\n",
    "corrmat = all_data.corr()\n",
    "corrmat_abs = pd.DataFrame.abs(corrmat)\n",
    "fig = plt.figure(figsize=(20, 10))\n",
    "sns.heatmap(corrmat, vmax=.8, square=True)\n"
   ]
  },
  {
   "cell_type": "code",
   "execution_count": 18,
   "metadata": {},
   "outputs": [
    {
     "name": "stdout",
     "output_type": "stream",
     "text": [
      "['income', 'showerTime', 'showerFreq', 'leaks', 'savings']\n"
     ]
    }
   ],
   "source": [
    "# let's use top 10 co-related features w.r.t. each missing feat \n",
    "remaining_missing_feats = all_data.columns[all_data.isnull().any()].tolist()\n",
    "print(remaining_missing_feats)\n",
    "\n",
    "# k = 4 # excluding one related to itself\n",
    "# related_feat_dict = {} # related feature dictionary i.e. {missing_feat_1:[related features as list ]}\n",
    "\n",
    "# for feat in remaining_missing_feats:\n",
    "#     cols = corrmat_abs.nlargest(k, feat)[feat].index.tolist()\n",
    "#     cols.remove(feat)\n",
    "#     try:\n",
    "#         cols.remove('partialDisadopt')\n",
    "#     except:\n",
    "#         pass\n",
    "#     try: \n",
    "#         cols.remove('totalDisadopt')\n",
    "#     except:\n",
    "#         pass\n",
    "        \n",
    "#     for feat_2 in remaining_missing_feats:\n",
    "#         try: \n",
    "#             cols.remove(feat_2)\n",
    "#         except:\n",
    "#             pass\n",
    "    \n",
    "            \n",
    "#     related_feat_dict[feat] = cols\n",
    " \n",
    "\n",
    "# # see what we got\n",
    "# print(related_feat_dict)\n",
    "\n"
   ]
  },
  {
   "cell_type": "code",
   "execution_count": 19,
   "metadata": {
    "collapsed": true
   },
   "outputs": [],
   "source": [
    "# try filling in with avg\n",
    "for feat in remaining_missing_feats:\n",
    "    all_data = fill_feature_value(all_data, feat)\n",
    "    "
   ]
  },
  {
   "cell_type": "code",
   "execution_count": 20,
   "metadata": {
    "collapsed": true
   },
   "outputs": [],
   "source": [
    "# how we can use rfr method to fill in missing labels\n",
    "from sklearn.ensemble import RandomForestRegressor, RandomForestClassifier\n",
    "# fill in the rest of missing data with rfr\n",
    "def rfr_fit_missing(df, feature, related_features, n_est=2000):\n",
    "    \"\"\"RandomForestRegressor for filling feature with missing value.\n",
    "    feature: feature with missing value need to fill\n",
    "    related_features: pre-determined features relating to feature\n",
    "    \"\"\"\n",
    "\n",
    "    group_features = related_features.copy()\n",
    "    group_features.append(feature)\n",
    "    temp_df = df[group_features]\n",
    "    print(temp_df.head())\n",
    "    \n",
    "    known = temp_df[temp_df[feature].notnull()].as_matrix()\n",
    "    unknown = temp_df[temp_df[feature].isnull()].as_matrix()\n",
    "    \n",
    "    y = known[:, -1]\n",
    "    X = known[:, :-2]\n",
    "    \n",
    "    print(X)\n",
    "    \n",
    "    # use rfr to find pattern between X and y, for predicting missing feature\n",
    "    rfr = RandomForestRegressor(random_state=101, n_estimators=n_est, n_jobs=-1)\n",
    "    rfr.fit(X, y)\n",
    "    \n",
    "    # predict missing feature\n",
    "    pred = rfr.predict(unknown[:, :-2])\n",
    "    \n",
    "    # fill in missing\n",
    "    df.loc[(df[feature].isnull()), feature] = pred\n",
    "    \n",
    "    return df, rfr\n",
    "\n"
   ]
  },
  {
   "cell_type": "code",
   "execution_count": 21,
   "metadata": {},
   "outputs": [],
   "source": [
    "# we need to record rft w.r.t. each feature, so we can use it in test\n",
    "# rfr_dict = {}\n",
    "# for feat in remaining_missing_feats:\n",
    "#     all_data, rfr = rfr_fit_missing(all_data, feat, related_feat_dict[feat])\n",
    "#     rfr_dict[feat] = rfr"
   ]
  },
  {
   "cell_type": "code",
   "execution_count": 22,
   "metadata": {},
   "outputs": [
    {
     "data": {
      "text/plain": [
       "Unnamed: 0            0\n",
       "community             0\n",
       "id                    0\n",
       "members               0\n",
       "attendAsembly         0\n",
       "memOrg                0\n",
       "income                0\n",
       "monthInstall          0\n",
       "primaryEd             0\n",
       "secondaryEd           0\n",
       "owner                 0\n",
       "yearsInHome           0\n",
       "treatNoBonus          0\n",
       "treatBonus            0\n",
       "waterScarce           0\n",
       "waterOK               0\n",
       "houseType             0\n",
       "age                   0\n",
       "numShowers            0\n",
       "numSinks              0\n",
       "numKitchen            0\n",
       "showerTime            0\n",
       "showerFreq            0\n",
       "sinkTime              0\n",
       "sinkFreq              0\n",
       "kitchenTime           0\n",
       "maxInstall            0\n",
       "cleanShower           0\n",
       "cleanKitchen          0\n",
       "cleanSink             0\n",
       "leaks                 0\n",
       "savings               0\n",
       "sameFamily            0\n",
       "totalDisadopt         0\n",
       "partialDisadopt       0\n",
       "meanUsage             0\n",
       "perCapitaUsage        0\n",
       "kitchenExpectation    0\n",
       "sinkExpectation       0\n",
       "showerExpectation     0\n",
       "cleanSum              0\n",
       "dtype: int64"
      ]
     },
     "execution_count": 22,
     "metadata": {},
     "output_type": "execute_result"
    }
   ],
   "source": [
    "# double check to make got no missing value right now\n",
    "all_data.isnull().sum()"
   ]
  },
  {
   "cell_type": "code",
   "execution_count": 23,
   "metadata": {},
   "outputs": [],
   "source": [
    "# print (rfr_dict)"
   ]
  },
  {
   "cell_type": "markdown",
   "metadata": {},
   "source": [
    "## By so far we fill in all missing values of 3 different cases\n",
    "1. very few missing data, fill in avg\n",
    "2. large percentage missing data, transfer to binary class\n",
    "3. moderage percentage missing data: rfr with top 10(or less) correlated features\n",
    "\n",
    "Continue feature engineering\n",
    "\n"
   ]
  },
  {
   "cell_type": "code",
   "execution_count": 24,
   "metadata": {
    "collapsed": true
   },
   "outputs": [],
   "source": [
    "# re-plot heat map with filled in in missing data"
   ]
  },
  {
   "cell_type": "code",
   "execution_count": 25,
   "metadata": {},
   "outputs": [
    {
     "data": {
      "text/plain": [
       "<matplotlib.axes._subplots.AxesSubplot at 0x111981978>"
      ]
     },
     "execution_count": 25,
     "metadata": {},
     "output_type": "execute_result"
    },
    {
     "data": {
      "image/png": "[encoded data removed]",
      "text/plain": [
       "<matplotlib.figure.Figure at 0x111233080>"
      ]
     },
     "metadata": {},
     "output_type": "display_data"
    }
   ],
   "source": [
    "corrmat = all_data.corr()\n",
    "corrmat_abs = pd.DataFrame.abs(corrmat)\n",
    "fig = plt.figure(figsize=(20, 10))\n",
    "sns.heatmap(corrmat, vmax=.8, square=True)"
   ]
  },
  {
   "cell_type": "code",
   "execution_count": 26,
   "metadata": {},
   "outputs": [
    {
     "name": "stdout",
     "output_type": "stream",
     "text": [
      "{'partialDisadopt': ['maxInstall', 'numKitchen', 'cleanSum', 'cleanSink', 'numSinks', 'cleanKitchen', 'numShowers', 'income', 'secondaryEd'], 'totalDisadopt': ['maxInstall', 'numSinks', 'cleanSink', 'cleanSum', 'showerTime', 'numKitchen', 'sameFamily', 'waterOK', 'owner']}\n"
     ]
    }
   ],
   "source": [
    "\n",
    "k = 11 # excluding one related to itself\n",
    "related_pred_feat_dict = {} # related feature dictionary i.e. {tatalDis or partialDis:[related features as list ]}\n",
    "\n",
    "feat_lab = ['totalDisadopt', 'partialDisadopt']\n",
    "for feat in feat_lab:\n",
    "    cols = corrmat_abs.nlargest(k, feat)[feat].sort_values(ascending=False).index.tolist()\n",
    "    cols.remove(feat)         \n",
    "    \n",
    "    if feat == 'totalDisadopt':\n",
    "        try:\n",
    "            cols.remove('partialDisadopt')\n",
    "        except:\n",
    "            continue\n",
    "    else:\n",
    "        try:\n",
    "            cols.remove('totalDisadopt')\n",
    "        except:\n",
    "            continue\n",
    "        \n",
    "        \n",
    "    related_pred_feat_dict[feat] = cols\n",
    " \n",
    "\n",
    "# see what we got\n",
    "print(related_pred_feat_dict)\n",
    "\n",
    "# Q: what is Unnamed: 0? Can we delete it?\n"
   ]
  },
  {
   "cell_type": "code",
   "execution_count": 27,
   "metadata": {},
   "outputs": [
    {
     "name": "stdout",
     "output_type": "stream",
     "text": [
      "<class 'pandas.core.frame.DataFrame'>\n",
      "RangeIndex: 812 entries, 0 to 811\n",
      "Data columns (total 41 columns):\n",
      "Unnamed: 0            812 non-null int64\n",
      "community             812 non-null float64\n",
      "id                    812 non-null float64\n",
      "members               812 non-null float64\n",
      "attendAsembly         812 non-null float64\n",
      "memOrg                812 non-null float64\n",
      "income                812 non-null float64\n",
      "monthInstall          812 non-null float64\n",
      "primaryEd             812 non-null float64\n",
      "secondaryEd           812 non-null float64\n",
      "owner                 812 non-null float64\n",
      "yearsInHome           812 non-null float64\n",
      "treatNoBonus          812 non-null float64\n",
      "treatBonus            812 non-null float64\n",
      "waterScarce           812 non-null float64\n",
      "waterOK               812 non-null float64\n",
      "houseType             812 non-null float64\n",
      "age                   812 non-null float64\n",
      "numShowers            812 non-null float64\n",
      "numSinks              812 non-null float64\n",
      "numKitchen            812 non-null float64\n",
      "showerTime            812 non-null float64\n",
      "showerFreq            812 non-null float64\n",
      "sinkTime              812 non-null object\n",
      "sinkFreq              812 non-null object\n",
      "kitchenTime           812 non-null object\n",
      "maxInstall            812 non-null float64\n",
      "cleanShower           812 non-null float64\n",
      "cleanKitchen          812 non-null float64\n",
      "cleanSink             812 non-null float64\n",
      "leaks                 812 non-null float64\n",
      "savings               812 non-null float64\n",
      "sameFamily            812 non-null float64\n",
      "totalDisadopt         812 non-null float64\n",
      "partialDisadopt       812 non-null float64\n",
      "meanUsage             812 non-null float64\n",
      "perCapitaUsage        812 non-null float64\n",
      "kitchenExpectation    812 non-null object\n",
      "sinkExpectation       812 non-null object\n",
      "showerExpectation     812 non-null object\n",
      "cleanSum              812 non-null float64\n",
      "dtypes: float64(34), int64(1), object(6)\n",
      "memory usage: 260.2+ KB\n"
     ]
    }
   ],
   "source": [
    "all_data.info()"
   ]
  },
  {
   "cell_type": "markdown",
   "metadata": {},
   "source": [
    "So above is, roughly speaking, how \"important\" is each feature w.r.t. totalDisadopt and partial disadopt, with such \"importance\" ranked in descending order as stored in dictionary, deteremined as it is in heat map."
   ]
  },
  {
   "cell_type": "markdown",
   "metadata": {
    "scrolled": true
   },
   "source": [
    "# let's examine 2 groups of correlations pairwise to see more clearly\n",
    "# again, is ID useful ? i.e. how is it chosen, is there any hidden pattern there w.r.t. label y?\n",
    "sns.set()\n",
    "total_dis_group = ['maxInstall', 'numSinks', 'cleanSink', 'cleanSum', 'showerTime', 'numKitchen', 'sameFamily', 'waterOK', 'owner']\n",
    "\n",
    "sns.pairplot(all_data[total_dis_group], size=5, kind='scatter', diag_kind='hist')\n",
    "  \n",
    "plt.show()"
   ]
  },
  {
   "cell_type": "markdown",
   "metadata": {},
   "source": [
    "sns.pairplot(all_data[total_dis_group], size=5, kind='reg', diag_kind='kde')\n",
    "plt.show()"
   ]
  },
  {
   "cell_type": "markdown",
   "metadata": {},
   "source": [
    "The reason why i'm doing pairwise plot is to figure out correlation pattern between features used for prediction s.t. we may refer back to such pattern as needed (i.e. if we find two features being closely correlated, we may sometimes find that just using one of the two features for training and predicting beneficial, the potential gain for doing this is to reduce the noise being introduced to training and prediction phase while not loosing much information. \n",
    "\n",
    "However, as all the data as discretized (don't know why is it done that way, my thinking is, it would be beneficial to maintain the raw data as it is - to keep as much information as possible s.t. we may gain more insight into the data,  - especially if it was continuous/can be obtained in continous fashion in the first place).\n",
    "\n",
    "At this stage, as all data are discretized, I don't see a useful correlation pattern between pairwise trainng features - though we can train our model and make predictions, still, we might have already lost something.\n"
   ]
  },
  {
   "cell_type": "markdown",
   "metadata": {},
   "source": [
    "# Repeat for partial Disadopt\n",
    "\n",
    "sns.set()\n",
    "partial_dis_group = ['partialDisadopt', 'maxInstall', 'numKitchen', 'cleanSum', 'cleanSink', 'numSinks', 'cleanKitchen', 'numShowers', 'income']\n",
    "sns.pairplot(all_data[partial_dis_group], size=5, kind='scatter', diag_kind='hist')\n",
    "    \n",
    "plt.show()"
   ]
  },
  {
   "cell_type": "markdown",
   "metadata": {},
   "source": [
    "sns.set()\n",
    "partial_dis_group = ['partialDisadopt', 'maxInstall', 'numKitchen', 'cleanSum', 'cleanSink', 'numSinks', 'cleanKitchen', 'numShowers', 'income']\n",
    "sns.pairplot(all_data[partial_dis_group], size=5, kind='reg', diag_kind='kde')\n",
    "    \n",
    "plt.show()"
   ]
  },
  {
   "cell_type": "code",
   "execution_count": null,
   "metadata": {
    "collapsed": true
   },
   "outputs": [],
   "source": []
  },
  {
   "cell_type": "markdown",
   "metadata": {},
   "source": [
    "# 2. Model Training"
   ]
  },
  {
   "cell_type": "code",
   "execution_count": 28,
   "metadata": {
    "collapsed": true
   },
   "outputs": [],
   "source": [
    "from sklearn.neighbors import KNeighborsClassifier\n",
    "from sklearn.tree import DecisionTreeClassifier\n",
    "from sklearn.ensemble import RandomForestClassifier\n",
    "from sklearn.naive_bayes import GaussianNB\n",
    "from sklearn.svm import SVC"
   ]
  },
  {
   "cell_type": "code",
   "execution_count": 29,
   "metadata": {
    "collapsed": true
   },
   "outputs": [],
   "source": [
    "from sklearn.model_selection import KFold\n",
    "from sklearn.model_selection import cross_val_score\n",
    "k_fold = KFold(n_splits=10, shuffle=True) "
   ]
  },
  {
   "cell_type": "markdown",
   "metadata": {},
   "source": []
  },
  {
   "cell_type": "code",
   "execution_count": 30,
   "metadata": {},
   "outputs": [
    {
     "name": "stdout",
     "output_type": "stream",
     "text": [
      "['maxInstall', 'numSinks', 'cleanSink', 'cleanSum', 'showerTime', 'numKitchen', 'sameFamily', 'waterOK', 'owner']\n",
      "['maxInstall', 'numKitchen', 'cleanSum', 'cleanSink', 'numSinks', 'cleanKitchen', 'numShowers', 'income', 'secondaryEd']\n"
     ]
    }
   ],
   "source": [
    "scoring = 'accuracy'\n",
    "\n",
    "y_tot = all_data['totalDisadopt']\n",
    "y_par = all_data['partialDisadopt']\n",
    "\n",
    "\n",
    "\n",
    "X_tot = all_data[related_pred_feat_dict['totalDisadopt']]\n",
    "X_par = all_data[related_pred_feat_dict['partialDisadopt']]\n",
    "\n",
    "# double check\n",
    "print(related_pred_feat_dict['totalDisadopt'])\n",
    "print(related_pred_feat_dict['partialDisadopt'])"
   ]
  },
  {
   "cell_type": "code",
   "execution_count": 31,
   "metadata": {
    "collapsed": true
   },
   "outputs": [],
   "source": [
    "# maintain a dictionary to record all the best model\n",
    "cv_result_model_tot = {}\n",
    "cv_result_accuracy_tot = {}\n",
    "cv_result_model_par = {}\n",
    "cv_result_accuracy_par = {}"
   ]
  },
  {
   "cell_type": "markdown",
   "metadata": {},
   "source": [
    "## 2.1 KNN"
   ]
  },
  {
   "cell_type": "code",
   "execution_count": 32,
   "metadata": {},
   "outputs": [
    {
     "name": "stdout",
     "output_type": "stream",
     "text": [
      "Total Disadopt - KNN: \n",
      "\n",
      "avg accuracy for n_nei = 3 - > 0.7412225233363444\n",
      "[0.7804878  0.82926829 0.71604938 0.60493827 0.69135802 0.74074074\n",
      " 0.79012346 0.77777778 0.75308642 0.72839506]\n",
      "avg accuracy for n_nei = 4 - > 0.7894158386028305\n",
      "[0.81707317 0.75609756 0.7654321  0.85185185 0.83950617 0.77777778\n",
      " 0.72839506 0.7654321  0.81481481 0.77777778]\n",
      "avg accuracy for n_nei = 5 - > 0.7709424872026498\n",
      "[0.74390244 0.79268293 0.85185185 0.71604938 0.81481481 0.7654321\n",
      " 0.77777778 0.79012346 0.74074074 0.71604938]\n",
      "avg accuracy for n_nei = 6 - > 0.7955886781090034\n",
      "[0.81707317 0.75609756 0.80246914 0.74074074 0.80246914 0.80246914\n",
      " 0.77777778 0.81481481 0.79012346 0.85185185]\n",
      "avg accuracy for n_nei = 7 - > 0.7967780788919\n",
      "[0.74390244 0.86585366 0.86419753 0.80246914 0.74074074 0.7654321\n",
      " 0.80246914 0.7654321  0.77777778 0.83950617]\n",
      "avg accuracy for n_nei = 8 - > 0.7955435109906654\n",
      "[0.80487805 0.80487805 0.77777778 0.7654321  0.7654321  0.80246914\n",
      " 0.79012346 0.79012346 0.80246914 0.85185185]\n",
      "avg accuracy for n_nei = 9 - > 0.8077988557663354\n",
      "[0.81707317 0.86585366 0.74074074 0.81481481 0.80246914 0.79012346\n",
      " 0.90123457 0.75308642 0.80246914 0.79012346]\n",
      "{'KNN': KNeighborsClassifier(algorithm='auto', leaf_size=30, metric='minkowski',\n",
      "           metric_params=None, n_jobs=1, n_neighbors=9, p=2,\n",
      "           weights='uniform')}\n",
      "{'KNN': 0.8077988557663354}\n"
     ]
    }
   ],
   "source": [
    "# total_disadopt\n",
    "print(\"Total Disadopt - KNN: \\n\")\n",
    "knn_clf_tot_best = None\n",
    "best_accuracy_tot = -1\n",
    "for i in range(3, 10):\n",
    "    knn_clf_tot = KNeighborsClassifier(n_neighbors=i)\n",
    "    score = cross_val_score(knn_clf_tot, X_tot, y_tot, cv=k_fold, n_jobs=1, scoring=scoring)\n",
    "    if np.mean(score) > best_accuracy_tot:\n",
    "        knn_clf_tot_best = knn_clf_tot\n",
    "        best_accuracy_tot = np.mean(score)\n",
    "    print(\"avg accuracy for n_nei = {} - > {}\".format(i, np.mean(score)))\n",
    "    print(score)\n",
    "\n",
    "knn_clf_tot_best = knn_clf_tot_best.fit(X_tot, y_tot)\n",
    "cv_result_model_tot['KNN'] = knn_clf_tot_best\n",
    "cv_result_accuracy_tot['KNN'] = best_accuracy_tot\n",
    "print(cv_result_model_tot)\n",
    "print(cv_result_accuracy_tot)"
   ]
  },
  {
   "cell_type": "markdown",
   "metadata": {},
   "source": [
    "pretty good"
   ]
  },
  {
   "cell_type": "code",
   "execution_count": 33,
   "metadata": {},
   "outputs": [
    {
     "name": "stdout",
     "output_type": "stream",
     "text": [
      "avg accuracy for n_nei = 3 - > 0.69838903944595\n",
      "[0.67073171 0.63414634 0.71604938 0.71604938 0.7037037  0.74074074\n",
      " 0.71604938 0.67901235 0.66666667 0.74074074]\n",
      "avg accuracy for n_nei = 4 - > 0.6971093044263776\n",
      "[0.67073171 0.67073171 0.7037037  0.75308642 0.69135802 0.71604938\n",
      " 0.64197531 0.75308642 0.66666667 0.7037037 ]\n",
      "avg accuracy for n_nei = 5 - > 0.6919602529358626\n",
      "[0.75609756 0.75609756 0.66666667 0.64197531 0.65432099 0.67901235\n",
      " 0.61728395 0.66666667 0.74074074 0.74074074]\n",
      "avg accuracy for n_nei = 6 - > 0.6883769948810599\n",
      "[0.65853659 0.75609756 0.72839506 0.7654321  0.62962963 0.65432099\n",
      " 0.66666667 0.64197531 0.67901235 0.7037037 ]\n",
      "avg accuracy for n_nei = 7 - > 0.6870972598614875\n",
      "[0.74390244 0.70731707 0.64197531 0.67901235 0.56790123 0.72839506\n",
      " 0.80246914 0.69135802 0.66666667 0.64197531]\n",
      "avg accuracy for n_nei = 8 - > 0.7118337850045167\n",
      "[0.69512195 0.7195122  0.75308642 0.60493827 0.69135802 0.72839506\n",
      " 0.67901235 0.72839506 0.77777778 0.74074074]\n",
      "avg accuracy for n_nei = 9 - > 0.6933453778982235\n",
      "[0.73170732 0.65853659 0.69135802 0.69135802 0.71604938 0.65432099\n",
      " 0.72839506 0.7037037  0.65432099 0.7037037 ]\n",
      "{'KNN': KNeighborsClassifier(algorithm='auto', leaf_size=30, metric='minkowski',\n",
      "           metric_params=None, n_jobs=1, n_neighbors=8, p=2,\n",
      "           weights='uniform')}\n",
      "{'KNN': 0.7118337850045167}\n"
     ]
    }
   ],
   "source": [
    "# par disadopt\n",
    "best_accuracy_par = -1\n",
    "knn_clf_par_best = None\n",
    "for i in range(3, 10):\n",
    "    knn_clf_par = KNeighborsClassifier(n_neighbors=i)\n",
    "    score = cross_val_score(knn_clf_par, X_par, y_par, cv=k_fold, n_jobs=1, scoring=scoring)\n",
    "    if (np.mean(score) > best_accuracy_par):\n",
    "        best_accuracy_par = np.mean(score)\n",
    "        knn_clf_par_best = knn_clf_par\n",
    "    \n",
    "    print(\"avg accuracy for n_nei = {} - > {}\".format(i, np.mean(score)))\n",
    "\n",
    "    print(score)\n",
    "\n",
    "cv_result_model_par['KNN'] = knn_clf_par_best\n",
    "cv_result_accuracy_par['KNN'] = best_accuracy_par\n",
    "print(cv_result_model_par)\n",
    "print(cv_result_accuracy_par)"
   ]
  },
  {
   "cell_type": "markdown",
   "metadata": {},
   "source": [
    "cool, not bad"
   ]
  },
  {
   "cell_type": "markdown",
   "metadata": {},
   "source": [
    "## 2.2 Decision Tree\n",
    "\n",
    "    "
   ]
  },
  {
   "cell_type": "code",
   "execution_count": 34,
   "metadata": {},
   "outputs": [
    {
     "name": "stdout",
     "output_type": "stream",
     "text": [
      "avg accuracy is: 0.7844022884673291\n",
      "[0.79268293 0.84146341 0.72839506 0.80246914 0.77777778 0.80246914\n",
      " 0.7654321  0.7654321  0.81481481 0.75308642]\n",
      "{'DecisionTree': DecisionTreeClassifier(class_weight=None, criterion='gini', max_depth=None,\n",
      "            max_features=None, max_leaf_nodes=None,\n",
      "            min_impurity_decrease=0.0, min_impurity_split=None,\n",
      "            min_samples_leaf=1, min_samples_split=2,\n",
      "            min_weight_fraction_leaf=0.0, presort=False, random_state=None,\n",
      "            splitter='best'), 'KNN': KNeighborsClassifier(algorithm='auto', leaf_size=30, metric='minkowski',\n",
      "           metric_params=None, n_jobs=1, n_neighbors=9, p=2,\n",
      "           weights='uniform')}\n",
      "{'DecisionTree': 0.7844022884673291, 'KNN': 0.8077988557663354}\n"
     ]
    }
   ],
   "source": [
    "clf_dt = DecisionTreeClassifier()\n",
    "scoring = 'accuracy'\n",
    "\n",
    "# total disadopt\n",
    "score = cross_val_score(clf_dt, X_tot, y_tot, cv=k_fold,n_jobs=1, scoring=scoring)\n",
    "print('avg accuracy is: {}'.format(np.mean(score)))\n",
    "print(score)\n",
    "\n",
    "cv_result_model_tot['DecisionTree'] = clf_dt.fit(X_tot, y_tot)\n",
    "cv_result_accuracy_tot['DecisionTree'] = np.mean(score)\n",
    "\n",
    "print(cv_result_model_tot)\n",
    "print(cv_result_accuracy_tot)\n"
   ]
  },
  {
   "cell_type": "code",
   "execution_count": 35,
   "metadata": {},
   "outputs": [
    {
     "name": "stdout",
     "output_type": "stream",
     "text": [
      "avg accuracy is: 0.7168473351400181\n",
      "[0.65853659 0.69512195 0.72839506 0.81481481 0.71604938 0.71604938\n",
      " 0.7654321  0.67901235 0.75308642 0.64197531]\n",
      "{'DecisionTree': DecisionTreeClassifier(class_weight=None, criterion='gini', max_depth=None,\n",
      "            max_features=None, max_leaf_nodes=None,\n",
      "            min_impurity_decrease=0.0, min_impurity_split=None,\n",
      "            min_samples_leaf=1, min_samples_split=2,\n",
      "            min_weight_fraction_leaf=0.0, presort=False, random_state=None,\n",
      "            splitter='best'), 'KNN': KNeighborsClassifier(algorithm='auto', leaf_size=30, metric='minkowski',\n",
      "           metric_params=None, n_jobs=1, n_neighbors=8, p=2,\n",
      "           weights='uniform')}\n",
      "{'DecisionTree': 0.7168473351400181, 'KNN': 0.7118337850045167}\n"
     ]
    }
   ],
   "source": [
    "# par disadopt\n",
    "score = cross_val_score(clf_dt, X_par, y_par, cv=k_fold,n_jobs=1, scoring=scoring)\n",
    "print('avg accuracy is: {}'.format(np.mean(score)))\n",
    "print(score)\n",
    "\n",
    "cv_result_model_par['DecisionTree'] = clf_dt.fit(X_par, y_par)\n",
    "cv_result_accuracy_par['DecisionTree'] = np.mean(score)\n",
    "\n",
    "print(cv_result_model_par)\n",
    "print(cv_result_accuracy_par)"
   ]
  },
  {
   "cell_type": "markdown",
   "metadata": {},
   "source": [
    "## 2.3 RandomForest"
   ]
  },
  {
   "cell_type": "code",
   "execution_count": null,
   "metadata": {},
   "outputs": [
    {
     "name": "stdout",
     "output_type": "stream",
     "text": [
      "Avg accuracy for n_est=10 is: 0.7759409816320385\n",
      "Avg accuracy for n_est=20 is: 0.7921108099969889\n",
      "Avg accuracy for n_est=30 is: 0.7893857271906052\n",
      "Avg accuracy for n_est=40 is: 0.7881210478771454\n",
      "Avg accuracy for n_est=50 is: 0.7808641975308641\n",
      "Avg accuracy for n_est=60 is: 0.7919301415236374\n",
      "Avg accuracy for n_est=70 is: 0.7660945498343872\n",
      "Avg accuracy for n_est=80 is: 0.7832881662149955\n",
      "Avg accuracy for n_est=90 is: 0.7770099367660344\n",
      "Avg accuracy for n_est=100 is: 0.7881812707015959\n"
     ]
    }
   ],
   "source": [
    "# total disadopt\n",
    "n_ests = np.linspace(10, 100, 10, dtype=np.int32)\n",
    "best_clf_rf = None\n",
    "best_accuracy_rf = -1\n",
    "scoring = 'accuracy'\n",
    "for n_est in n_ests:\n",
    "    clf_rf = RandomForestClassifier(n_estimators=n_est)\n",
    "    score = cross_val_score(clf_rf, X_tot, y_tot, cv=k_fold, scoring = scoring)\n",
    "    print('Avg accuracy for n_est={} is: {}'.format(n_est, np.mean(score)))\n",
    "#     print(score)\n",
    "    if (np.mean(score) > best_accuracy_rf):\n",
    "        best_accuracy_rf = np.mean(score)\n",
    "        best_clf_rf = clf_rf\n",
    "\n",
    "cv_result_model_tot['RandomForest'] = best_clf_rf.fit(X_tot, y_tot)\n",
    "cv_result_accuracy_tot['RandomForest'] = best_accuracy_rf\n",
    "\n",
    "# print(cv_result_accuracy_tot)\n",
    "# print(cv_result_model_tot)"
   ]
  },
  {
   "cell_type": "code",
   "execution_count": null,
   "metadata": {},
   "outputs": [
    {
     "name": "stdout",
     "output_type": "stream",
     "text": [
      "Avg accuracy for n_est=10 is: 0.705615778380006\n",
      "Avg accuracy for n_est=20 is: 0.7056308340861186\n",
      "Avg accuracy for n_est=30 is: 0.6823396567299007\n",
      "Avg accuracy for n_est=40 is: 0.694579945799458\n"
     ]
    }
   ],
   "source": [
    "# partial disadopt\n",
    "n_ests = np.linspace(10, 100, 10, dtype=np.int32)\n",
    "best_clf_rf = None\n",
    "best_accuracy_rf = -1\n",
    "scoring = 'accuracy'\n",
    "for n_est in n_ests:\n",
    "    clf_rf = RandomForestClassifier(n_estimators=n_est)\n",
    "    score = cross_val_score(clf_rf, X_par, y_par, cv=k_fold, scoring = scoring)\n",
    "    print('Avg accuracy for n_est={} is: {}'.format(n_est, np.mean(score)))\n",
    "#     print(score)\n",
    "    if (np.mean(score) > best_accuracy_rf):\n",
    "        best_accuracy_rf = np.mean(score)\n",
    "        best_clf_rf = clf_rf\n",
    "\n",
    "cv_result_model_par['RandomForest'] = best_clf_rf.fit(X_tot, y_tot)\n",
    "cv_result_accuracy_par['RandomForest'] = best_accuracy_rf\n",
    "\n",
    "print(cv_result_accuracy_tot)\n",
    "print(cv_result_model_tot)"
   ]
  },
  {
   "cell_type": "markdown",
   "metadata": {},
   "source": [
    "# 2.4 GNB"
   ]
  },
  {
   "cell_type": "code",
   "execution_count": null,
   "metadata": {},
   "outputs": [],
   "source": [
    "# GNB\n",
    "# total disadopt\n",
    "clf_gnb = GaussianNB()\n",
    "scoring = 'accuracy'\n",
    "score = cross_val_score(clf_gnb, X_tot, y_tot, cv=k_fold, scoring = scoring)\n",
    "print(\"Avg accuracy for GNB is: {}\".format(np.mean(score)))\n",
    "print(score)\n",
    "\n",
    "cv_result_model_tot['GNB'] = clf_gnb.fit(X_tot, y_tot)\n",
    "cv_result_accuracy_tot['GNB'] = np.mean(score)\n",
    "\n"
   ]
  },
  {
   "cell_type": "code",
   "execution_count": null,
   "metadata": {},
   "outputs": [],
   "source": [
    "# partial disadopt\n",
    "clf_gnb = GaussianNB()\n",
    "scoring = 'accuracy'\n",
    "score = cross_val_score(clf_gnb, X_par, y_par, cv=k_fold, scoring = scoring)\n",
    "print(\"Avg accuracy for GNB is: {}\".format(np.mean(score)))\n",
    "print(score)\n",
    "\n",
    "cv_result_model_par['GNB'] = clf_gnb.fit(X_par, y_par)\n",
    "cv_result_accuracy_par['GNB'] = np.mean(score)"
   ]
  },
  {
   "cell_type": "markdown",
   "metadata": {},
   "source": [
    "# 2.5 SVM"
   ]
  },
  {
   "cell_type": "code",
   "execution_count": null,
   "metadata": {},
   "outputs": [],
   "source": [
    "# total disadopt\n",
    "clf_svm = SVC()\n",
    "scoring = 'accuracy'\n",
    "score = cross_val_score(clf_svm, X_tot, y_tot, cv=k_fold, scoring = scoring)\n",
    "print(\"Avg accuracy of svm is: {}\".format(np.mean(score)))\n",
    "print(score)\n",
    "\n",
    "cv_result_model_tot['SVM'] = clf_svm.fit(X_tot, y_tot)\n",
    "cv_result_accuracy_tot['SVM'] = np.mean(score)\n",
    "\n",
    "# print(cv_result_accuracy_tot)\n",
    "# print(cv_result_model_tot)"
   ]
  },
  {
   "cell_type": "code",
   "execution_count": null,
   "metadata": {},
   "outputs": [],
   "source": [
    "# par disadopt\n",
    "clf_svm = SVC()\n",
    "scoring = 'accuracy'\n",
    "score = cross_val_score(clf_svm, X_par, y_par, cv=k_fold, scoring = scoring)\n",
    "print(\"Avg accuracy of svm is: {}\".format(np.mean(score)))\n",
    "print(score)\n",
    "\n",
    "cv_result_model_par['SVM'] = clf_svm.fit(X_par, y_par)\n",
    "cv_result_accuracy_par['SVM'] = np.mean(score)\n",
    "\n",
    "# print(cv_result_accuracy_tot)\n",
    "# print(cv_result_model_tot)"
   ]
  },
  {
   "cell_type": "markdown",
   "metadata": {},
   "source": [
    "# 3. Summary"
   ]
  },
  {
   "cell_type": "markdown",
   "metadata": {},
   "source": [
    "### 1. Missing data handling:\n",
    "\n",
    "    1.1 ['meanUsage', 'perCapitaUsage']: filled in avg\n",
    "    1.2 ['sinkExpectation', 'sinkTime', 'sinkFreq', 'kitchenExpectation', 'kitchenTime', 'showerExpectation'], converted to binary.\n",
    "    1.3 'income', 'houseType', 'age', 'numShowers', 'numSinks', 'numKitchen', 'showerTime', 'showerFreq', 'maxInstall', 'numInstalled', 'leaks', 'savings', 'sameFamily']: correlated non-empty feature chosen by picking top k abs. corr. feat, we trained individual RandomForest Regressor(rfr) for each single missing value in 1.3, rfr is stored in dictionary rfr_dict, as will be needed in prediction phase to deal with potential missing data in testing data.\n",
    "    \n",
    " \n",
    "### 2. Feature for prediction. \n",
    "\n",
    "Features for predicting y_tot, y_pred: chosen by observing pairwise graph, heat map and corr matrix. Prediction is done in one-vs-all fashion, i.e. we have one classifier for each label s.t. y_binary_stat_1 against y_binary_stat_2 for each single prediction label. \n",
    "\n",
    "### 3. Model selection.\n",
    "We tested 5 models, namely, KNN, DecisionTree, RandomForest, Gaussian NaiveBayes and SVM, we use accuracy as matrix to determine the \"goodness\" of model since neither two label distributions is lopsided. Average accuracdy is determined by running 10-fold cross validation. We recorded best parameter w.r.t. each single model and stored the best model alone with best 10-fold cross validation avg accuracy for reference. Model result is shown below."
   ]
  },
  {
   "cell_type": "code",
   "execution_count": null,
   "metadata": {},
   "outputs": [],
   "source": [
    "res_tot = pd.DataFrame(list(cv_result_accuracy_tot.items()), columns=['Model', 'Tot CV 10-Fold Accuracy'])\n",
    "\n",
    "res_par = pd.DataFrame(list(cv_result_accuracy_par.items()), columns=['Model','Par CV 10-Fold Accuracy'])\n",
    "res = pd.concat([res_tot.Model, res_tot['Tot CV 10-Fold Accuracy'], res_par['Par CV 10-Fold Accuracy']], axis=1)\n",
    "print(\"Model Matrix\")\n",
    "res"
   ]
  },
  {
   "cell_type": "markdown",
   "metadata": {},
   "source": [
    "Short comment: The result looks pretty promising as shown by 10 fold cross validation accuracy, however, you guys are more than welcome to add in new models if you want. Also if you don't want to implementing your own feature engineering code and just want to test new models, all necessary variables/data structures are documented and shown in below part - refer to 4 Others Variable/Data Structure..........\n",
    "\n",
    "Other useful functions, code for feature engineering and data visualization, please refer to part 1-2, I'm not going to document each single function/code here as they are all pretty well explained and exhibited(I think).\n",
    "\n"
   ]
  },
  {
   "cell_type": "markdown",
   "metadata": {},
   "source": [
    "## 4. Others Variable/Data Structure look up - for your convenience\n",
    "\n",
    "ask me if unclear"
   ]
  },
  {
   "cell_type": "code",
   "execution_count": null,
   "metadata": {},
   "outputs": [],
   "source": [
    "# models:\n",
    "# tot\n",
    "print(cv_result_model_tot)\n",
    "\n",
    "# par\n",
    "print(cv_result_model_par)"
   ]
  },
  {
   "cell_type": "code",
   "execution_count": null,
   "metadata": {},
   "outputs": [],
   "source": [
    "# corr-abs in descending order\n",
    "corrmat_abs"
   ]
  },
  {
   "cell_type": "code",
   "execution_count": null,
   "metadata": {},
   "outputs": [],
   "source": [
    "# mean value filled in feature\n",
    "feat_fill_val"
   ]
  },
  {
   "cell_type": "code",
   "execution_count": null,
   "metadata": {},
   "outputs": [],
   "source": [
    "# high percentage missing data\n",
    "high_perc_missing"
   ]
  },
  {
   "cell_type": "code",
   "execution_count": null,
   "metadata": {},
   "outputs": [],
   "source": [
    "# rfr filled in data\n",
    "remaining_missing_feats"
   ]
  },
  {
   "cell_type": "code",
   "execution_count": null,
   "metadata": {},
   "outputs": [],
   "source": [
    "# correlation w.r.t. each single feature in remaining_missing_feats, for random forest prediction\n",
    "related_feat_dict"
   ]
  },
  {
   "cell_type": "code",
   "execution_count": null,
   "metadata": {},
   "outputs": [],
   "source": [
    "# rfr_dict: random forest regressor w.r.t. each missing label, will be used in test\n",
    "rfr_dict"
   ]
  },
  {
   "cell_type": "code",
   "execution_count": null,
   "metadata": {},
   "outputs": [],
   "source": [
    "#  features used for prediction - after filled in missing data with rfr regressor above\n",
    "# \"importance\" in descending order\n",
    "related_pred_feat_dict"
   ]
  },
  {
   "cell_type": "code",
   "execution_count": null,
   "metadata": {
    "collapsed": true
   },
   "outputs": [],
   "source": []
  }
 ],
 "metadata": {
  "kernelspec": {
   "display_name": "Python 3",
   "language": "python",
   "name": "python3"
  },
  "language_info": {
   "codemirror_mode": {
    "name": "ipython",
    "version": 3
   },
   "file_extension": ".py",
   "mimetype": "text/x-python",
   "name": "python",
   "nbconvert_exporter": "python",
   "pygments_lexer": "ipython3",
   "version": "3.6.6"
  }
 },
 "nbformat": 4,
 "nbformat_minor": 2
}
